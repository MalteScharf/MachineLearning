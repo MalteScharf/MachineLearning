{
 "cells": [
  {
   "cell_type": "code",
   "execution_count": 11,
   "id": "33e92bd2-2cc9-45c4-b83e-469519726ada",
   "metadata": {},
   "outputs": [
    {
     "data": {
      "text/plain": [
       "array([[11. ,  0.8],\n",
       "       [11.6,  1. ],\n",
       "       [ 9.2,  0.9],\n",
       "       [14.1,  0.8],\n",
       "       [13.4,  0.9],\n",
       "       [ 8.8,  1.1],\n",
       "       [12.2,  0.8]])"
      ]
     },
     "execution_count": 11,
     "metadata": {},
     "output_type": "execute_result"
    }
   ],
   "source": [
    "## input data\n",
    "import numpy as np\n",
    "E = np.array([(11,0.8),(11.6,1),(9.2,0.9),(14.1,0.8),(13.4,0.9),(8.8,1.1),(12.2,0.8)])"
   ]
  },
  {
   "cell_type": "code",
   "execution_count": 14,
   "id": "e7ff54af-0b6e-488b-b8b7-91ec9347fb29",
   "metadata": {},
   "outputs": [
    {
     "data": {
      "text/plain": [
       "array([-1])"
      ]
     },
     "execution_count": 14,
     "metadata": {},
     "output_type": "execute_result"
    }
   ],
   "source": [
    "from sklearn import covariance\n",
    "\n",
    "C = covariance.EllipticEnvelope().fit(E)\n",
    "C.predict([[13.9,1.1]])"
   ]
  }
 ],
 "metadata": {
  "kernelspec": {
   "display_name": "Python 3 (ipykernel)",
   "language": "python",
   "name": "python3"
  },
  "language_info": {
   "codemirror_mode": {
    "name": "ipython",
    "version": 3
   },
   "file_extension": ".py",
   "mimetype": "text/x-python",
   "name": "python",
   "nbconvert_exporter": "python",
   "pygments_lexer": "ipython3",
   "version": "3.9.6"
  }
 },
 "nbformat": 4,
 "nbformat_minor": 5
}
