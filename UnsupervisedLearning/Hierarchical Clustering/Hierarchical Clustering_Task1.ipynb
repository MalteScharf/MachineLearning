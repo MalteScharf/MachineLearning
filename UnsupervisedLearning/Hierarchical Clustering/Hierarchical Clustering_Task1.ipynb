{
 "cells": [
  {
   "cell_type": "code",
   "execution_count": 2,
   "id": "78054de4-3d51-4886-9a39-ae81024d39f4",
   "metadata": {},
   "outputs": [],
   "source": [
    "import matplotlib.pyplot as plt\n",
    "import pandas as pd\n",
    "import numpy as np \n",
    "\n",
    "# Data import \n",
    "D = [(7.1, 1.5),\n",
    "     (5.0, 14.6),\n",
    "     (9.7, 8.1),\n",
    "     (14.0, 4.6),\n",
    "     (15.5, 2.2),\n",
    "     (18.4, 6.2),\n",
    "     (20.3, 10.3)]\n",
    "\n",
    "X = np.asarray(D, dtype=float)  # shape (7, 2)\n"
   ]
  },
  {
   "cell_type": "code",
   "execution_count": 3,
   "id": "23adbc32-3e57-4ca2-b2f8-d352850cfcbe",
   "metadata": {},
   "outputs": [
    {
     "name": "stdout",
     "output_type": "stream",
     "text": [
      "Cluster labels: [0 1 0 0 0 0 0]\n"
     ]
    }
   ],
   "source": [
    "# Agglomaterives Clustering\n",
    "from sklearn.cluster import AgglomerativeClustering\n",
    "\n",
    "#k=2\n",
    "#In scikit-learn, you can either set n_clusters or distance_threshold, but not both (unless n_clusters=None).\n",
    "# Since you want n_clusters=2, you should remove distance_threshold=0 \n",
    "\n",
    "clust = AgglomerativeClustering(n_clusters=2, linkage='single')\n",
    "labels = clust.fit_predict(X)\n",
    "\n",
    "print(\"Cluster labels:\", labels)"
   ]
  },
  {
   "cell_type": "code",
   "execution_count": 4,
   "id": "d05ce051-79bd-4cc3-86dd-40de6e951288",
   "metadata": {},
   "outputs": [
    {
     "name": "stdout",
     "output_type": "stream",
     "text": [
      "Cluster labels: [2 1 0 0 0 0 0]\n"
     ]
    }
   ],
   "source": [
    "#k=2\n",
    "\n",
    "clust = AgglomerativeClustering(n_clusters=3, linkage='single')\n",
    "labels = clust.fit_predict(X)\n",
    "\n",
    "print(\"Cluster labels:\", labels)"
   ]
  },
  {
   "cell_type": "code",
   "execution_count": null,
   "id": "b08519bf-85ee-46f6-bd63-c59f304136f3",
   "metadata": {},
   "outputs": [],
   "source": []
  }
 ],
 "metadata": {
  "kernelspec": {
   "display_name": "Python 3 (ipykernel)",
   "language": "python",
   "name": "python3"
  },
  "language_info": {
   "codemirror_mode": {
    "name": "ipython",
    "version": 3
   },
   "file_extension": ".py",
   "mimetype": "text/x-python",
   "name": "python",
   "nbconvert_exporter": "python",
   "pygments_lexer": "ipython3",
   "version": "3.9.6"
  }
 },
 "nbformat": 4,
 "nbformat_minor": 5
}
