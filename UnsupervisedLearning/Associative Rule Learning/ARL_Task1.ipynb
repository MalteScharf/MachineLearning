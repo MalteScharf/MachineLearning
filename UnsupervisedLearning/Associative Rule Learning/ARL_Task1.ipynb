{
 "cells": [
  {
   "cell_type": "code",
   "execution_count": 1,
   "id": "cf625da6-5b2b-49e2-a881-5b8d07c5117b",
   "metadata": {},
   "outputs": [
    {
     "data": {
      "text/html": [
       "<div>\n",
       "<style scoped>\n",
       "    .dataframe tbody tr th:only-of-type {\n",
       "        vertical-align: middle;\n",
       "    }\n",
       "\n",
       "    .dataframe tbody tr th {\n",
       "        vertical-align: top;\n",
       "    }\n",
       "\n",
       "    .dataframe thead th {\n",
       "        text-align: right;\n",
       "    }\n",
       "</style>\n",
       "<table border=\"1\" class=\"dataframe\">\n",
       "  <thead>\n",
       "    <tr style=\"text-align: right;\">\n",
       "      <th></th>\n",
       "      <th>a</th>\n",
       "      <th>b</th>\n",
       "      <th>c</th>\n",
       "      <th>d</th>\n",
       "    </tr>\n",
       "  </thead>\n",
       "  <tbody>\n",
       "    <tr>\n",
       "      <th>0</th>\n",
       "      <td>1</td>\n",
       "      <td>1</td>\n",
       "      <td>0</td>\n",
       "      <td>1</td>\n",
       "    </tr>\n",
       "    <tr>\n",
       "      <th>1</th>\n",
       "      <td>0</td>\n",
       "      <td>1</td>\n",
       "      <td>0</td>\n",
       "      <td>1</td>\n",
       "    </tr>\n",
       "    <tr>\n",
       "      <th>2</th>\n",
       "      <td>1</td>\n",
       "      <td>0</td>\n",
       "      <td>1</td>\n",
       "      <td>0</td>\n",
       "    </tr>\n",
       "    <tr>\n",
       "      <th>3</th>\n",
       "      <td>1</td>\n",
       "      <td>1</td>\n",
       "      <td>1</td>\n",
       "      <td>1</td>\n",
       "    </tr>\n",
       "    <tr>\n",
       "      <th>4</th>\n",
       "      <td>0</td>\n",
       "      <td>0</td>\n",
       "      <td>0</td>\n",
       "      <td>1</td>\n",
       "    </tr>\n",
       "  </tbody>\n",
       "</table>\n",
       "</div>"
      ],
      "text/plain": [
       "   a  b  c  d\n",
       "0  1  1  0  1\n",
       "1  0  1  0  1\n",
       "2  1  0  1  0\n",
       "3  1  1  1  1\n",
       "4  0  0  0  1"
      ]
     },
     "execution_count": 1,
     "metadata": {},
     "output_type": "execute_result"
    }
   ],
   "source": [
    "import pandas as pd\n",
    "\n",
    "# input Data\n",
    "\n",
    "F =  {\n",
    "    'a':[1,0,1,1,0],\n",
    "    'b':[1,1,0,1,0],\n",
    "    'c':[0,0,1,1,0],\n",
    "    'd':[1,1,0,1,1]\n",
    "}\n",
    "\n",
    "df = pd.DataFrame(F)\n",
    "df"
   ]
  },
  {
   "cell_type": "code",
   "execution_count": 2,
   "id": "05f2db2d-25a9-4f7b-abcd-be9aeae61bf9",
   "metadata": {},
   "outputs": [
    {
     "data": {
      "text/plain": [
       "0.6"
      ]
     },
     "execution_count": 2,
     "metadata": {},
     "output_type": "execute_result"
    }
   ],
   "source": [
    "# define function support\n",
    "import numpy as np \n",
    "\n",
    "def support(v):\n",
    "    data = []\n",
    "\n",
    "    #initialize array with first item \n",
    "    firstEntry = df[v[0]].tolist()\n",
    "    array = np.array(firstEntry).reshape(-1,1)\n",
    "\n",
    "    # initialize initialRows\n",
    "    initialRows= len(array)\n",
    "\n",
    "    \n",
    "    #transform input into array \n",
    "    for i in range(1,len(v)):\n",
    "        listEntry = df[v[i]].tolist()\n",
    "        #data.append(df[a].tolist())\n",
    "        \n",
    "        array = np.column_stack([array,listEntry])\n",
    "    # delete zeros from array\n",
    "\n",
    "    #iterate through colummns \n",
    "    for c in range(len(array[0])):\n",
    "        # Locate zeros\n",
    "        zeros = [] # list rows to delete \n",
    "        for i in range(len(array)):\n",
    "            if(array[i][c] == 0):\n",
    "                zeros.append(i)\n",
    "    \n",
    "        # delete rows\n",
    "        deleted_rows = 0;\n",
    "        for n in zeros:\n",
    "            array = np.delete(array,n-deleted_rows,axis=0)\n",
    "            # to refactor zeros (-1), track how many columns were deleted\n",
    "            deleted_rows+=1; \n",
    "    # calculate support vector \n",
    "    \n",
    "    #quantity \n",
    "    t = len(array)\n",
    "    \n",
    "    supp = t/initialRows\n",
    "    \n",
    "    \n",
    "    return round(supp,3)\n",
    "\n",
    "input = [\"a\"]; \n",
    "\n",
    "support(input)"
   ]
  },
  {
   "cell_type": "code",
   "execution_count": 8,
   "id": "e075d73b-7a8b-4b17-9229-658d7b7fac49",
   "metadata": {},
   "outputs": [
    {
     "data": {
      "text/plain": [
       "0.2"
      ]
     },
     "execution_count": 8,
     "metadata": {},
     "output_type": "execute_result"
    }
   ],
   "source": [
    "support([\"b\",\"c\"])"
   ]
  },
  {
   "cell_type": "code",
   "execution_count": 4,
   "id": "4309767b-4480-4b70-9116-b5270208ef00",
   "metadata": {},
   "outputs": [
    {
     "data": {
      "text/plain": [
       "0.4"
      ]
     },
     "execution_count": 4,
     "metadata": {},
     "output_type": "execute_result"
    }
   ],
   "source": [
    "support([\"a\",\"c\"])"
   ]
  },
  {
   "cell_type": "code",
   "execution_count": 5,
   "id": "bff6fed7-8617-455f-bfb2-194df448811c",
   "metadata": {},
   "outputs": [
    {
     "data": {
      "text/plain": [
       "0.2"
      ]
     },
     "execution_count": 5,
     "metadata": {},
     "output_type": "execute_result"
    }
   ],
   "source": [
    "input = [\"b\",\"c\",\"d\"]; \n",
    "\n",
    "support(input)"
   ]
  },
  {
   "cell_type": "code",
   "execution_count": 11,
   "id": "c2cbcb2e-e8f1-4967-b413-ac1ca0a3504d",
   "metadata": {},
   "outputs": [
    {
     "data": {
      "text/plain": [
       "0.4"
      ]
     },
     "execution_count": 11,
     "metadata": {},
     "output_type": "execute_result"
    }
   ],
   "source": [
    "#𝑠𝑢𝑝𝑝𝑜𝑟𝑡({𝑎}⇒{𝑑}) \n",
    "\n",
    "support([\"a\",\"d\"])"
   ]
  },
  {
   "cell_type": "code",
   "execution_count": 14,
   "id": "7137ec5a-9ff9-4b93-8c43-c430dbe90ed5",
   "metadata": {},
   "outputs": [
    {
     "data": {
      "text/plain": [
       "0.5"
      ]
     },
     "execution_count": 14,
     "metadata": {},
     "output_type": "execute_result"
    }
   ],
   "source": [
    "#𝑐𝑜𝑛𝑓({𝑎}⇒{𝑑})\n",
    "support([\"a\",\"d\"])/support([\"d\"])"
   ]
  },
  {
   "cell_type": "code",
   "execution_count": 12,
   "id": "d101773d-14d4-4f6d-ac5d-a59147f5b1ad",
   "metadata": {},
   "outputs": [
    {
     "data": {
      "text/plain": [
       "0.2"
      ]
     },
     "execution_count": 12,
     "metadata": {},
     "output_type": "execute_result"
    }
   ],
   "source": [
    "#𝑠𝑢𝑝𝑝𝑜𝑟𝑡({𝑎,𝑏}⇒{𝑐})\n",
    "\n",
    "support([\"a\",\"b\",\"c\"])"
   ]
  },
  {
   "cell_type": "code",
   "execution_count": 13,
   "id": "7e7994a0-8ad7-4ae8-997c-8549f595e78b",
   "metadata": {},
   "outputs": [
    {
     "data": {
      "text/plain": [
       "0.5"
      ]
     },
     "execution_count": 13,
     "metadata": {},
     "output_type": "execute_result"
    }
   ],
   "source": [
    "#𝑐𝑜𝑛𝑓({𝑎,𝑏}⇒{𝑐})\n",
    "\n",
    "support([\"a\",\"b\",\"c\"])/support([\"c\"])"
   ]
  }
 ],
 "metadata": {
  "kernelspec": {
   "display_name": "Python 3 (ipykernel)",
   "language": "python",
   "name": "python3"
  },
  "language_info": {
   "codemirror_mode": {
    "name": "ipython",
    "version": 3
   },
   "file_extension": ".py",
   "mimetype": "text/x-python",
   "name": "python",
   "nbconvert_exporter": "python",
   "pygments_lexer": "ipython3",
   "version": "3.9.6"
  }
 },
 "nbformat": 4,
 "nbformat_minor": 5
}
