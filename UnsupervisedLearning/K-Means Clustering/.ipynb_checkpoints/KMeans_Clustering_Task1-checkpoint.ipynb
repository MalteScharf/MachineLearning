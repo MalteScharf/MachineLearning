{
 "cells": [
  {
   "cell_type": "code",
   "execution_count": 2,
   "id": "db57dfb6-dc62-4bac-9b2d-5b82be7a2ec3",
   "metadata": {},
   "outputs": [
    {
     "data": {
      "text/plain": [
       "[(8.5, 16),\n",
       " (12.4, 26.8),\n",
       " (9.3, 21),\n",
       " (11.5, 17),\n",
       " (17.5, 25),\n",
       " (13, 22.6),\n",
       " (4, 16.5)]"
      ]
     },
     "execution_count": 2,
     "metadata": {},
     "output_type": "execute_result"
    }
   ],
   "source": [
    "E = [(8.5,16),(12.4,26.8),(9.3,21),(11.5,17),(17.5,25),(13,22.6),(4,16.5)]\n",
    "E"
   ]
  },
  {
   "cell_type": "code",
   "execution_count": null,
   "id": "520cb1ab-ad96-42cd-a00b-74aa46a04532",
   "metadata": {},
   "outputs": [],
   "source": [
    "# Wählen Sie k = 2 und als Initialisierungsmethode K-Means++\n",
    "\n",
    "from sklearn.cluster import KMeans\n"
   ]
  }
 ],
 "metadata": {
  "kernelspec": {
   "display_name": "Python 3 (ipykernel)",
   "language": "python",
   "name": "python3"
  },
  "language_info": {
   "codemirror_mode": {
    "name": "ipython",
    "version": 3
   },
   "file_extension": ".py",
   "mimetype": "text/x-python",
   "name": "python",
   "nbconvert_exporter": "python",
   "pygments_lexer": "ipython3",
   "version": "3.9.6"
  }
 },
 "nbformat": 4,
 "nbformat_minor": 5
}
