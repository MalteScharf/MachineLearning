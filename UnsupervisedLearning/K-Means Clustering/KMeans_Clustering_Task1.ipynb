{
 "cells": [
  {
   "cell_type": "code",
   "execution_count": 1,
   "id": "db57dfb6-dc62-4bac-9b2d-5b82be7a2ec3",
   "metadata": {},
   "outputs": [
    {
     "data": {
      "text/plain": [
       "array([[ 8.5, 16. ],\n",
       "       [12.4, 26.8],\n",
       "       [ 9.3, 21. ],\n",
       "       [11.5, 17. ],\n",
       "       [17.5, 25. ],\n",
       "       [13. , 22.6],\n",
       "       [ 4. , 16.5]])"
      ]
     },
     "execution_count": 1,
     "metadata": {},
     "output_type": "execute_result"
    }
   ],
   "source": [
    "import numpy as np\n",
    "\n",
    "E = np.array([(8.5,16),(12.4,26.8),(9.3,21),(11.5,17),(17.5,25),(13,22.6),(4,16.5)])\n",
    "E"
   ]
  },
  {
   "cell_type": "code",
   "execution_count": 10,
   "id": "520cb1ab-ad96-42cd-a00b-74aa46a04532",
   "metadata": {},
   "outputs": [],
   "source": [
    "# Wählen Sie k = 2 und als Initialisierungsmethode K-Means++\n",
    "\n",
    "from sklearn.cluster import KMeans\n",
    "\n",
    "clust = KMeans(n_clusters=2,init='k-means++').fit(E)"
   ]
  },
  {
   "cell_type": "code",
   "execution_count": 11,
   "id": "c3a1ee2f-f75f-4c60-a127-71e8a9bf7e70",
   "metadata": {},
   "outputs": [
    {
     "data": {
      "text/plain": [
       "array([0, 1, 0, 0, 1, 1, 0], dtype=int32)"
      ]
     },
     "execution_count": 11,
     "metadata": {},
     "output_type": "execute_result"
    }
   ],
   "source": [
    "## Geben Sie die Clusterzugehörigkeiten aller Punkte an\n",
    "\n",
    "y = clust.predict(E) \n",
    "y"
   ]
  },
  {
   "cell_type": "code",
   "execution_count": 12,
   "id": "f59f4dfe-fd0b-484a-8c8c-32c7a4b03f5f",
   "metadata": {},
   "outputs": [
    {
     "data": {
      "text/plain": [
       "69.875"
      ]
     },
     "execution_count": 12,
     "metadata": {},
     "output_type": "execute_result"
    }
   ],
   "source": [
    "clust.inertia_"
   ]
  },
  {
   "cell_type": "code",
   "execution_count": 13,
   "id": "63731aef-b6bf-4935-87c3-80e0abcadd72",
   "metadata": {},
   "outputs": [
    {
     "data": {
      "text/plain": [
       "array([[ 8.325, 17.625],\n",
       "       [14.3  , 24.8  ]])"
      ]
     },
     "execution_count": 13,
     "metadata": {},
     "output_type": "execute_result"
    }
   ],
   "source": [
    "# Geben Sie die finalen Zentroiden an\n",
    "\n",
    "clust.cluster_centers_"
   ]
  },
  {
   "cell_type": "code",
   "execution_count": 14,
   "id": "2ef1d827-4b0e-4af4-83d9-0d1b33a56457",
   "metadata": {},
   "outputs": [
    {
     "data": {
      "text/plain": [
       "array([0, 1, 0, 0, 1, 1, 0], dtype=int32)"
      ]
     },
     "execution_count": 14,
     "metadata": {},
     "output_type": "execute_result"
    }
   ],
   "source": [
    "# Wählen Sie nun k = 3\n",
    "clust3 = KMeans(n_clusters=3,init='k-means++').fit(E)\n",
    "y = clust.predict(E) \n",
    "y"
   ]
  },
  {
   "cell_type": "code",
   "execution_count": 15,
   "id": "e18c92fc-368b-472a-b27e-9e321d211997",
   "metadata": {},
   "outputs": [
    {
     "data": {
      "text/plain": [
       "array([[14.3  , 24.8  ],\n",
       "       [ 9.767, 18.   ],\n",
       "       [ 4.   , 16.5  ]])"
      ]
     },
     "execution_count": 15,
     "metadata": {},
     "output_type": "execute_result"
    }
   ],
   "source": [
    "clust3.cluster_centers_.round(3)"
   ]
  },
  {
   "cell_type": "code",
   "execution_count": 16,
   "id": "1aea3ecf-00e6-44ed-b18c-b9804433c68e",
   "metadata": {},
   "outputs": [
    {
     "data": {
      "text/plain": [
       "43.24666666666666"
      ]
     },
     "execution_count": 16,
     "metadata": {},
     "output_type": "execute_result"
    }
   ],
   "source": [
    "clust3.inertia_"
   ]
  },
  {
   "cell_type": "code",
   "execution_count": null,
   "id": "b9aa0d4c-366c-4be7-a713-040cce7312f8",
   "metadata": {},
   "outputs": [],
   "source": []
  }
 ],
 "metadata": {
  "kernelspec": {
   "display_name": "Python 3 (ipykernel)",
   "language": "python",
   "name": "python3"
  },
  "language_info": {
   "codemirror_mode": {
    "name": "ipython",
    "version": 3
   },
   "file_extension": ".py",
   "mimetype": "text/x-python",
   "name": "python",
   "nbconvert_exporter": "python",
   "pygments_lexer": "ipython3",
   "version": "3.9.6"
  }
 },
 "nbformat": 4,
 "nbformat_minor": 5
}
