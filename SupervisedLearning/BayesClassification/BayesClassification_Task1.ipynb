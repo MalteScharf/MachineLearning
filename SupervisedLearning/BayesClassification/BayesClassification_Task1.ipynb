{
 "cells": [
  {
   "cell_type": "code",
   "execution_count": 2,
   "id": "29a75cd2-3829-46be-a8d7-e6fc91af527a",
   "metadata": {},
   "outputs": [
    {
     "data": {
      "text/plain": [
       "array([0, 2, 1, 1, 0, 2])"
      ]
     },
     "execution_count": 2,
     "metadata": {},
     "output_type": "execute_result"
    }
   ],
   "source": [
    "from sklearn.naive_bayes import GaussianNB\n",
    "import numpy as np \n",
    "\n",
    "D = [((0,50),0),((1,200),2),((2,200),1),((0,100),1),((1,50),0),((0,200),2)]\n",
    "\n",
    "X = np.array([coord for coord, label in D])\n",
    "y = np.array([label for coord, label in D])"
   ]
  },
  {
   "cell_type": "code",
   "execution_count": 4,
   "id": "4d367b0d-9305-4ba8-b640-e8a5a3e4562c",
   "metadata": {},
   "outputs": [
    {
     "data": {
      "text/plain": [
       "array([0])"
      ]
     },
     "execution_count": 4,
     "metadata": {},
     "output_type": "execute_result"
    }
   ],
   "source": [
    "clf = GaussianNB().fit(X,y)\n",
    "X7 = [[2,50]]\n",
    "\n",
    "clf.predict(X7)"
   ]
  }
 ],
 "metadata": {
  "kernelspec": {
   "display_name": "Python 3 (ipykernel)",
   "language": "python",
   "name": "python3"
  },
  "language_info": {
   "codemirror_mode": {
    "name": "ipython",
    "version": 3
   },
   "file_extension": ".py",
   "mimetype": "text/x-python",
   "name": "python",
   "nbconvert_exporter": "python",
   "pygments_lexer": "ipython3",
   "version": "3.9.6"
  }
 },
 "nbformat": 4,
 "nbformat_minor": 5
}
