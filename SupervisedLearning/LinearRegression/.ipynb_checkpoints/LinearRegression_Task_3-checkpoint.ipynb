{
 "cells": [
  {
   "cell_type": "code",
   "execution_count": 3,
   "id": "bde3bb1b-5fa3-48eb-a598-0419d36154a7",
   "metadata": {},
   "outputs": [],
   "source": [
    "# import data\n",
    "D = {((0.5,4.4),6.8),((1,4.0),8.1),((1.5,3.8),9.3),((1.6,3.7),11.1),((1.2,5.2),11.6),((0.7,4.3),13.6)}"
   ]
  },
  {
   "cell_type": "code",
   "execution_count": 9,
   "id": "e2ad3661-afb6-4bb3-a505-03c8cee98dad",
   "metadata": {},
   "outputs": [],
   "source": [
    "import numpy as np\n",
    "import pandas as pd\n",
    "import matplotlib.pyplot as plt\n",
    "\n",
    "# Daten extrahieren\n",
    "X = np.array([x for x, _ in D])\n",
    "y = np.array([y for _, y in D])"
   ]
  },
  {
   "cell_type": "code",
   "execution_count": 12,
   "id": "77b6b2b4-15bb-4cd3-ab59-dfd832699441",
   "metadata": {
    "scrolled": true
   },
   "outputs": [],
   "source": [
    "## polynomiale Merkmalserweiterung\n",
    "\n",
    "from sklearn.preprocessing import PolynomialFeatures\n",
    "\n",
    "poly = PolynomialFeatures(degree=2, include_bias=False)\n",
    "X_poly = poly.fit_transform(X)"
   ]
  },
  {
   "cell_type": "code",
   "execution_count": 13,
   "id": "0eb48490-ee23-436b-8096-0a9f5b7c1186",
   "metadata": {},
   "outputs": [
    {
     "data": {
      "text/plain": [
       "array([1488.40846349,  353.98329096, -180.84211164, -266.0540017 ,\n",
       "         -3.9338903 ])"
      ]
     },
     "execution_count": 13,
     "metadata": {},
     "output_type": "execute_result"
    }
   ],
   "source": [
    "# Linear Regression\n",
    "\n",
    "from sklearn.linear_model import LinearRegression\n",
    "\n",
    "\n",
    "regr = LinearRegression().fit(X_poly, y)\n",
    "regr.coef_"
   ]
  },
  {
   "cell_type": "code",
   "execution_count": 14,
   "id": "4e71b3e3-0091-4f7d-8103-89b306c80a35",
   "metadata": {},
   "outputs": [
    {
     "data": {
      "text/plain": [
       "np.float64(-1588.2412640755444)"
      ]
     },
     "execution_count": 14,
     "metadata": {},
     "output_type": "execute_result"
    }
   ],
   "source": [
    "regr.intercept_"
   ]
  },
  {
   "cell_type": "code",
   "execution_count": null,
   "id": "2a692b04-6002-4b9e-9523-2f432ce3278d",
   "metadata": {},
   "outputs": [],
   "source": []
  }
 ],
 "metadata": {
  "kernelspec": {
   "display_name": "Python 3 (ipykernel)",
   "language": "python",
   "name": "python3"
  },
  "language_info": {
   "codemirror_mode": {
    "name": "ipython",
    "version": 3
   },
   "file_extension": ".py",
   "mimetype": "text/x-python",
   "name": "python",
   "nbconvert_exporter": "python",
   "pygments_lexer": "ipython3",
   "version": "3.9.6"
  }
 },
 "nbformat": 4,
 "nbformat_minor": 5
}
