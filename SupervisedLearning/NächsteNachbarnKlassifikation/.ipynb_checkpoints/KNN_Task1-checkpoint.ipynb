{
 "cells": [
  {
   "cell_type": "code",
   "execution_count": 18,
   "id": "edc5d7ec-6965-4da7-9917-4a3eede24830",
   "metadata": {},
   "outputs": [],
   "source": [
    "import numpy as np\n",
    "import matplotlib.pyplot as plt\n",
    "\n",
    "# Data\n",
    "\n",
    "D = [((14.26,18.98),1),((9.45,8.61),1),((7.53,-0.7),1),((15.62,4.92),2),((17.47,-8.43),2),((6.66,-5.27),3)]\n",
    "X = np.array([coord for coord, label in D])\n",
    "y = np.array([label for coord, label in D])"
   ]
  },
  {
   "cell_type": "code",
   "execution_count": 44,
   "id": "897e8efb-09c6-4c74-83d4-92cb3df6db63",
   "metadata": {},
   "outputs": [
    {
     "data": {
      "text/plain": [
       "array([2])"
      ]
     },
     "execution_count": 44,
     "metadata": {},
     "output_type": "execute_result"
    }
   ],
   "source": [
    "## Training\n",
    "from sklearn.neighbors import KNeighborsClassifier\n",
    "from sklearn.inspection import DecisionBoundaryDisplay\n",
    "\n",
    "clf = KNeighborsClassifier(n_neighbors=3).fit(X,y)\n",
    "\n",
    "D_test = [[13.92,-1.76]]\n",
    "\n",
    "clf.predict(D_test)"
   ]
  },
  {
   "cell_type": "code",
   "execution_count": 45,
   "id": "1c00b68a-a52a-4d96-ad55-37c71fa9b138",
   "metadata": {},
   "outputs": [
    {
     "data": {
      "text/plain": [
       "<Figure size 640x480 with 0 Axes>"
      ]
     },
     "metadata": {},
     "output_type": "display_data"
    },
    {
     "data": {
      "image/png": "[encoded data removed]",
      "text/plain": [
       "<Figure size 640x480 with 1 Axes>"
      ]
     },
     "metadata": {},
     "output_type": "display_data"
    }
   ],
   "source": [
    "from sklearn.inspection import DecisionBoundaryDisplay\n",
    "\n",
    "plt.figure()\n",
    "DecisionBoundaryDisplay.from_estimator(clf,X,response_method=\"predict\", plot_method=\"pcolormesh\")\n",
    "plt.scatter(X[:,0][y == 1],X[:,1][y == 1], marker='x')\n",
    "plt.scatter(X[:,0][y == 2],X[:,1][y == 2])\n",
    "plt.scatter(X[:,0][y == 3],X[:,1][y == 3])\n",
    "plt.scatter(D_test[0][0],D_test[0][1])\n",
    "plt.show()"
   ]
  },
  {
   "cell_type": "code",
   "execution_count": null,
   "id": "f020dd57-fffb-4f4b-8e86-0e603581186b",
   "metadata": {},
   "outputs": [],
   "source": []
  }
 ],
 "metadata": {
  "kernelspec": {
   "display_name": "Python 3 (ipykernel)",
   "language": "python",
   "name": "python3"
  },
  "language_info": {
   "codemirror_mode": {
    "name": "ipython",
    "version": 3
   },
   "file_extension": ".py",
   "mimetype": "text/x-python",
   "name": "python",
   "nbconvert_exporter": "python",
   "pygments_lexer": "ipython3",
   "version": "3.9.6"
  }
 },
 "nbformat": 4,
 "nbformat_minor": 5
}
