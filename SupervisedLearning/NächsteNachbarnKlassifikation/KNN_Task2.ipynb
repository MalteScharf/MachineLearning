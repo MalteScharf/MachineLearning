{
 "cells": [
  {
   "cell_type": "code",
   "execution_count": 2,
   "id": "f97f68db-f95e-4ef4-afba-5763334a0b88",
   "metadata": {},
   "outputs": [],
   "source": [
    "import numpy as np\n",
    "\n",
    "# Data\n",
    "\n",
    "D = [((9.8,40.29),1),((-0.1,37.54),1),((-18.46,46.52),1),((-30.33,22.56),2),((12.51,30.13),2),((36.45,13.2),3)]\n",
    "X = np.array([coord for coord, label in D])\n",
    "y = np.array([label for coord, label in D])"
   ]
  },
  {
   "cell_type": "code",
   "execution_count": 5,
   "id": "29a6d41b-bb93-4caf-bcb4-207640d0f870",
   "metadata": {},
   "outputs": [
    {
     "data": {
      "text/plain": [
       "array([[ 0.376,  0.765],\n",
       "       [-0.08 ,  0.52 ],\n",
       "       [-0.926,  1.32 ],\n",
       "       [-1.473, -0.815],\n",
       "       [ 0.501, -0.14 ],\n",
       "       [ 1.604, -1.649]])"
      ]
     },
     "execution_count": 5,
     "metadata": {},
     "output_type": "execute_result"
    }
   ],
   "source": [
    "from sklearn.preprocessing import StandardScaler\n",
    "\n",
    "scaler = StandardScaler()\n",
    "scaler.fit(X)\n",
    "X_scaled = scaler.transform(X)\n",
    "X_scaled.round(3)"
   ]
  },
  {
   "cell_type": "code",
   "execution_count": 9,
   "id": "6e2cd116-c9f2-4fd4-953e-108fc847d3ab",
   "metadata": {},
   "outputs": [
    {
     "data": {
      "text/plain": [
       "array([2])"
      ]
     },
     "execution_count": 9,
     "metadata": {},
     "output_type": "execute_result"
    }
   ],
   "source": [
    "from sklearn.neighbors import KNeighborsClassifier\n",
    "clf = KNeighborsClassifier(n_neighbors=3).fit(X_scaled,y)\n",
    "\n",
    "## z-transformation von x7\n",
    "x7 = [[13.92,-1.76]]\n",
    "\n",
    "X7_scaled = scaler.transform(x7)\n",
    "clf.predict(X7_scaled)"
   ]
  }
 ],
 "metadata": {
  "kernelspec": {
   "display_name": "Python 3 (ipykernel)",
   "language": "python",
   "name": "python3"
  },
  "language_info": {
   "codemirror_mode": {
    "name": "ipython",
    "version": 3
   },
   "file_extension": ".py",
   "mimetype": "text/x-python",
   "name": "python",
   "nbconvert_exporter": "python",
   "pygments_lexer": "ipython3",
   "version": "3.9.6"
  }
 },
 "nbformat": 4,
 "nbformat_minor": 5
}
