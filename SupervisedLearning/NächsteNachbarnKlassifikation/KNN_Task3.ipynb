{
 "cells": [
  {
   "cell_type": "code",
   "execution_count": 2,
   "id": "64df21bc-1caf-4878-8de3-84807d7a7c00",
   "metadata": {},
   "outputs": [],
   "source": [
    "import numpy as np\n",
    "\n",
    "D = [((3.1,4.1),5.9),((2.6,5.3),5.8),((9.7,9.3),2.3),((8.4,6.2),6.4),((3.3,8.3),2.7),((9.5,0.2),8.8)]\n",
    "X = np.array([coord for coord, label in D])\n",
    "y = np.array([label for coord, label in D])"
   ]
  },
  {
   "cell_type": "code",
   "execution_count": 10,
   "id": "4c90963a-5811-494f-a7f6-728898f3deca",
   "metadata": {},
   "outputs": [
    {
     "data": {
      "text/plain": [
       "array([4.967])"
      ]
     },
     "execution_count": 10,
     "metadata": {},
     "output_type": "execute_result"
    }
   ],
   "source": [
    "from sklearn.neighbors import KNeighborsRegressor\n",
    "\n",
    "clf = KNeighborsRegressor(n_neighbors=3)\n",
    "clf.fit(X,y)\n",
    "\n",
    "D_Test= [[4.1,9.7]]\n",
    "clf.predict(D_Test).round(3)"
   ]
  }
 ],
 "metadata": {
  "kernelspec": {
   "display_name": "Python 3 (ipykernel)",
   "language": "python",
   "name": "python3"
  },
  "language_info": {
   "codemirror_mode": {
    "name": "ipython",
    "version": 3
   },
   "file_extension": ".py",
   "mimetype": "text/x-python",
   "name": "python",
   "nbconvert_exporter": "python",
   "pygments_lexer": "ipython3",
   "version": "3.9.6"
  }
 },
 "nbformat": 4,
 "nbformat_minor": 5
}
