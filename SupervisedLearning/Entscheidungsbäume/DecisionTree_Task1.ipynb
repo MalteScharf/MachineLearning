{
 "cells": [
  {
   "cell_type": "code",
   "execution_count": 5,
   "id": "9890de30-7bae-40b0-a403-bc4f481446d9",
   "metadata": {},
   "outputs": [],
   "source": [
    "import numpy as np\n",
    "\n",
    "D = [((37.5,2),1),((36,1),0),((39,1),1),((37.5,1),0),((39,0),1),((37.5,0),0),((37.5,1),0),((36,2),1)]\n",
    "\n",
    "X = np.array([coord for coord, label in D])\n",
    "y = np.array([label for coord, label in D])\n"
   ]
  },
  {
   "cell_type": "code",
   "execution_count": 6,
   "id": "2db82b7c-ff26-401c-b0e4-c618f2e36db7",
   "metadata": {},
   "outputs": [],
   "source": [
    "from sklearn import tree\n",
    "\n",
    "clf = tree.DecisionTreeClassifier().fit(X,y)"
   ]
  },
  {
   "cell_type": "code",
   "execution_count": 13,
   "id": "279d3c41-ede6-4c11-b8c6-52a49ab5916a",
   "metadata": {},
   "outputs": [
    {
     "data": {
      "text/plain": [
       "array([1, 0, 1, 0, 1, 0, 0, 1])"
      ]
     },
     "execution_count": 13,
     "metadata": {},
     "output_type": "execute_result"
    }
   ],
   "source": [
    "D_test = [((36,0),0),((37.5,1),0),((39,1),1),((39,2),0)]\n",
    "\n",
    "X_test = np.array([coord for coord, label in D_test])\n",
    "y_test = np.array([label for coord, label in D_test])\n",
    "\n",
    "y_pred = clf.predict(X_test)\n",
    "y_pred"
   ]
  },
  {
   "cell_type": "code",
   "execution_count": null,
   "id": "9e9c8008-ca5c-4fd0-bcad-065344a19055",
   "metadata": {},
   "outputs": [],
   "source": []
  },
  {
   "cell_type": "code",
   "execution_count": 14,
   "id": "bc12c59a-8a22-4aa0-a241-4bb218ee116a",
   "metadata": {},
   "outputs": [
    {
     "data": {
      "text/plain": [
       "array([[2, 1],\n",
       "       [0, 1]])"
      ]
     },
     "execution_count": 14,
     "metadata": {},
     "output_type": "execute_result"
    }
   ],
   "source": [
    "from sklearn.metrics import confusion_matrix\n",
    "\n",
    "cm = confusion_matrix(y_test,y_pred)\n",
    "cm"
   ]
  }
 ],
 "metadata": {
  "kernelspec": {
   "display_name": "Python 3 (ipykernel)",
   "language": "python",
   "name": "python3"
  },
  "language_info": {
   "codemirror_mode": {
    "name": "ipython",
    "version": 3
   },
   "file_extension": ".py",
   "mimetype": "text/x-python",
   "name": "python",
   "nbconvert_exporter": "python",
   "pygments_lexer": "ipython3",
   "version": "3.9.6"
  }
 },
 "nbformat": 4,
 "nbformat_minor": 5
}
