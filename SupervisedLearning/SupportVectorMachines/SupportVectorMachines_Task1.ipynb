{
 "cells": [
  {
   "cell_type": "code",
   "execution_count": 1,
   "id": "1786e985-3af7-49cf-8afe-2a9c3ca705c7",
   "metadata": {},
   "outputs": [
    {
     "data": {
      "text/plain": [
       "[-1, -1, -1, 1, 1, 1]"
      ]
     },
     "execution_count": 1,
     "metadata": {},
     "output_type": "execute_result"
    }
   ],
   "source": [
    "import numpy as np\n",
    "import pandas as pd\n",
    "\n",
    "D = [((2, 7), -1),\n",
    " ((7.5, 0.5), -1),\n",
    " ((3, 3.3), -1),\n",
    " ((2.5, 7.5), 1),\n",
    " ((4, 3.8), 1),\n",
    " ((5, 2), 1)]\n",
    "\n",
    "X = [coord for coord, label in D]\n",
    "y = [label for coord, label in D]\n",
    "\n",
    "y\n"
   ]
  },
  {
   "cell_type": "code",
   "execution_count": 2,
   "id": "2805110e-022e-4763-a7ee-9459de12f014",
   "metadata": {},
   "outputs": [
    {
     "data": {
      "text/plain": [
       "array([0.32 , 0.515])"
      ]
     },
     "execution_count": 2,
     "metadata": {},
     "output_type": "execute_result"
    }
   ],
   "source": [
    "from sklearn.svm import SVC\n",
    "\n",
    "clf = SVC(kernel='linear').fit(X,y)\n",
    "\n",
    "w = clf.coef_[0] \n",
    "w.round(3)"
   ]
  },
  {
   "cell_type": "code",
   "execution_count": 5,
   "id": "2b79e2e2-90ce-4d9c-920b-8472af23629a",
   "metadata": {},
   "outputs": [
    {
     "data": {
      "text/plain": [
       "np.float64(-3.659)"
      ]
     },
     "execution_count": 5,
     "metadata": {},
     "output_type": "execute_result"
    }
   ],
   "source": [
    "b = clf.intercept_[0]\n",
    "b.round(3)"
   ]
  },
  {
   "cell_type": "code",
   "execution_count": null,
   "id": "febc79c5-2c35-42be-a875-8f1d8fb68bc2",
   "metadata": {},
   "outputs": [],
   "source": []
  }
 ],
 "metadata": {
  "kernelspec": {
   "display_name": "Python 3 (ipykernel)",
   "language": "python",
   "name": "python3"
  },
  "language_info": {
   "codemirror_mode": {
    "name": "ipython",
    "version": 3
   },
   "file_extension": ".py",
   "mimetype": "text/x-python",
   "name": "python",
   "nbconvert_exporter": "python",
   "pygments_lexer": "ipython3",
   "version": "3.9.6"
  }
 },
 "nbformat": 4,
 "nbformat_minor": 5
}
